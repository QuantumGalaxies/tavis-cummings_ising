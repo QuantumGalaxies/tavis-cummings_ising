{
 "cells": [
  {
   "cell_type": "markdown",
   "id": "0ef27810-50d0-4d9f-a96c-1a76aa55128f",
   "metadata": {},
   "source": [
    "Tavis Cummings Model with modification of system via ising terms\n",
    "\n",
    "Turning on a short pulse of coherent ising term drives photon count"
   ]
  },
  {
   "cell_type": "code",
   "execution_count": 1,
   "id": "4e61c013-28df-41fd-aa18-c8c57b3b7482",
   "metadata": {
    "jupyter": {
     "source_hidden": true
    }
   },
   "outputs": [],
   "source": [
    "import pandas as pd\n",
    "import numpy as np\n",
    "import matplotlib.pyplot as plt\n",
    "from scipy import linalg\n",
    "from qutip import *"
   ]
  },
  {
   "cell_type": "code",
   "execution_count": 2,
   "id": "86e49017-5d62-4c72-9fa4-9262b636dcff",
   "metadata": {},
   "outputs": [],
   "source": [
    "    ##travis/cummings model (ising not part of Hamiltonian) (ising is an interaction term)\n",
    "    data = pd.read_csv('tc24_converged.csv')"
   ]
  },
  {
   "cell_type": "code",
   "execution_count": 3,
   "id": "b522e2d0-4516-4dba-8b46-67fff05f3aa8",
   "metadata": {
    "jupyter": {
     "source_hidden": true
    }
   },
   "outputs": [
    {
     "name": "stdout",
     "output_type": "stream",
     "text": [
      "condition number  1.0084028237157376\n"
     ]
    }
   ],
   "source": [
    "O = pd.pivot_table(data , index = ['bra'] , columns = ['Name','ket'],values = 'Element').replace(np.nan,0)\n",
    "\n",
    "def q(z):\n",
    "    return Qobj( z.values ) \n",
    "\n",
    "rag = range(1,25,1)\n",
    "s = O['overlap'].loc[rag][rag]\n",
    "boson = O['boson'].loc[rag][rag] ## unit coefficient\n",
    "dicke = 4*O['dicke'].loc[rag][rag] ## unit coefficient \n",
    "external = O['external'].loc[rag][rag]# unit coefficent\n",
    "ising = O['ising'].loc[rag][rag] \n",
    "\n",
    "##again, tehse below are NOT a part of the Hamiltonian.\n",
    "z = [ O['z_{}'.format(di+1)].loc[rag][rag] for di in range(24) ] # z op\n",
    "d = [ O['+spin_{}'.format(di+1)].transpose().loc[rag][rag] for di in range(24) ] #destruction op\n",
    "a = O['+boson'].transpose().loc[rag][rag] #destruction op\n",
    "#condition number#\n",
    "print('condition number ',(lambda x : x[-1]/x[0]) (np.sort(np.linalg.eigvals(s))))\n"
   ]
  },
  {
   "cell_type": "code",
   "execution_count": 5,
   "id": "446d67d3-5b0b-4945-865f-0a7e236018ba",
   "metadata": {},
   "outputs": [],
   "source": [
    "    T      = 10*(2*np.pi) \n",
    "    N = 10001\n",
    "    args = {}\n",
    "    tlist  = np.linspace(0.0,T, N)"
   ]
  },
  {
   "cell_type": "code",
   "execution_count": 6,
   "id": "6e8b4cb9-aa06-4bce-bdb4-b463e4c127b7",
   "metadata": {},
   "outputs": [],
   "source": [
    "    #HAMILTONIAN\n",
    "    #TRAVIS CUMMINGS MODEL\n",
    "    h0 =boson + 0.25*dicke + external \n",
    "\n",
    "    H0 = q(h0)\n",
    "\n",
    "\n",
    "    ##INTERACTION\n",
    "    # TURN ON ISING TERM,\n",
    "        ##nearest neighbors chat\n",
    "    H1 = q(ising)\n",
    "\n",
    "    ##OBSERVABLES\n",
    "        #observe photon count\n",
    "        #observe average z of spin block\n",
    "    Obs = [q(boson), -1/24*np.sum([q(z[i]) for i in range(24)],axis=0)]\n",
    "\n",
    "    #LINDBAD QUANTUM OBSERVATIONS\n",
    "    #--actions on Hamiltonian--\n",
    "    Ops = []\n",
    "\n",
    "\n",
    "    ##start in Ground State\n",
    "    ea,ev = linalg.eig(h0)\n",
    "    ev = np.transpose(ev)\n",
    "    Gs = Qobj( ev[np.argmin(ea)] )"
   ]
  },
  {
   "cell_type": "markdown",
   "id": "f7f764f6-ec30-4436-b6be-f2e8753917c6",
   "metadata": {},
   "source": [
    "Turn on the Ising term with this time signature"
   ]
  },
  {
   "cell_type": "code",
   "execution_count": 7,
   "id": "43db6ac1-2089-4a01-b830-7278beb3a66d",
   "metadata": {
    "scrolled": true
   },
   "outputs": [],
   "source": [
    "amp = -1\n",
    "def drive(t,args):\n",
    "        \"\"\"\n",
    "        Just a function to define a driving field\n",
    "        \"\"\"\n",
    "        return amp*((1 if 10 < t and t < 15 else 0 )+(1 if 135 < t and t < 140 else 0 )+(1 if 180 < t and t < 185 else 0 ))#*np.sin(args['w'] * t)#(step(t)+ step(t-10)+step(t-100))*amp#\n",
    "\n"
   ]
  },
  {
   "cell_type": "markdown",
   "id": "f58bea67-d65a-4946-897d-27be0c4ef468",
   "metadata": {},
   "source": [
    "Photon cavity lights up under coherent ising term"
   ]
  },
  {
   "cell_type": "code",
   "execution_count": 9,
   "id": "fd8cacbe-17e4-4e9f-9986-7d252be296c4",
   "metadata": {
    "jupyter": {
     "source_hidden": true
    },
    "scrolled": true
   },
   "outputs": [
    {
     "data": {
      "text/plain": [
       "<matplotlib.legend.Legend at 0x7bce3c05bb90>"
      ]
     },
     "execution_count": 9,
     "metadata": {},
     "output_type": "execute_result"
    },
    {
     "data": {
      "image/png": "[encoded data removed]",
      "text/plain": [
       "<Figure size 640x480 with 1 Axes>"
      ]
     },
     "metadata": {},
     "output_type": "display_data"
    }
   ],
   "source": [
    "def simulate(tlist,amp,psi0,args):\n",
    "    MM = len(rag)\n",
    "    H = [H0, [H1, lambda t, args:  drive(t,args)]] \n",
    "    \n",
    "    if False:\n",
    "        # find the floquet modes for the time-dependent hamiltonian\n",
    "        f_modes_0,f_energies = floquet_modes(H, T, args)\n",
    "\n",
    "        # decompose the inital state in the floquet modes\n",
    "        f_coeff = floquet_state_decomposition(f_modes_0, f_energies, psi0)\n",
    "\n",
    "        # calculate the wavefunctions using the from the floquet modes\n",
    "        p_ex = np.zeros(len(tlist))\n",
    "        for n, t in enumerate(tlist):\n",
    "            psi_t = floquet_wavefunction_t(f_modes_0, f_energies, f_coeff, t, H, T, args)\n",
    "            p_ex[n] = expect(Obs, psi_t)\n",
    "\n",
    "        plt.plot(tlist, p_ex)        \n",
    "    else:\n",
    "    # For reference: calculate the same thing with mesolve\n",
    "        p_ex = mesolve(H, psi0, tlist, Ops, Obs, args).expect\n",
    "    #p_ex = np.transpose(p_ex)\n",
    "    return p_ex\n",
    "plt.plot( tlist,list(map(lambda x : drive(x,args)/amp, tlist)), label = 'drive')\n",
    "plt.plot(tlist,np.transpose(simulate(tlist,0,Gs,args)[0]), label = 'photon count')\n",
    "plt.plot(tlist,np.transpose(simulate(tlist,0,Gs,args)[1]), label = 'average spinor')\n",
    "plt.legend()\n",
    "\n",
    "#photon number (not observed or emitted)"
   ]
  },
  {
   "cell_type": "markdown",
   "id": "7b3f961e-5c7f-4332-875d-8c8da10b5aad",
   "metadata": {},
   "source": [
    "Averge polarization of spinors decreases as photon lights up\n",
    ", normalized the drive for plotting sake"
   ]
  },
  {
   "cell_type": "code",
   "execution_count": null,
   "id": "38a5a5b3-0658-4c94-a76a-01ec7695e85f",
   "metadata": {},
   "outputs": [],
   "source": []
  }
 ],
 "metadata": {
  "kernelspec": {
   "display_name": "Python 3 (ipykernel)",
   "language": "python",
   "name": "python3"
  },
  "language_info": {
   "codemirror_mode": {
    "name": "ipython",
    "version": 3
   },
   "file_extension": ".py",
   "mimetype": "text/x-python",
   "name": "python",
   "nbconvert_exporter": "python",
   "pygments_lexer": "ipython3",
   "version": "3.12.3"
  }
 },
 "nbformat": 4,
 "nbformat_minor": 5
}
