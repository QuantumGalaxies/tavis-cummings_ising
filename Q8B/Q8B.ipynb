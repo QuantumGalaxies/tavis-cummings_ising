{
 "cells": [
  {
   "cell_type": "code",
   "execution_count": 9,
   "id": "4e61c013-28df-41fd-aa18-c8c57b3b7482",
   "metadata": {
    "jupyter": {
     "source_hidden": true
    }
   },
   "outputs": [],
   "source": [
    "import pandas as pd\n",
    "import numpy as np\n",
    "import matplotlib.pyplot as plt\n",
    "from scipy import linalg\n",
    "from qutip import *\n",
    "from scipy import *\n",
    "from h5py import File"
   ]
  },
  {
   "cell_type": "code",
   "execution_count": 10,
   "id": "86e49017-5d62-4c72-9fa4-9262b636dcff",
   "metadata": {
    "jupyter": {
     "source_hidden": true
    }
   },
   "outputs": [
    {
     "name": "stdout",
     "output_type": "stream",
     "text": [
      "0 boson\n",
      "1 dicke\n",
      "2 external\n",
      "3 ising\n",
      "4 z-1\n",
      "5 z-2\n",
      "6 z-3\n",
      "7 z-4\n",
      "8 z-5\n",
      "9 z-6\n",
      "10 z-7\n",
      "11 z-8\n",
      "12 d-1\n",
      "13 d-2\n",
      "14 d-3\n",
      "15 d-4\n",
      "16 d-5\n",
      "17 d-6\n",
      "18 d-7\n",
      "19 d-8\n",
      "20 a\n"
     ]
    },
    {
     "data": {
      "text/plain": [
       "('condition number', np.complex128(1.0841243682971626+0j))"
      ]
     },
     "execution_count": 10,
     "metadata": {},
     "output_type": "execute_result"
    }
   ],
   "source": [
    "\n",
    "    \n",
    "def read_h5( iter: int , ham : int, ovFlag = False, level = 0, krylovs = []):\n",
    "        x =  list(File(f\"result.h5\")[f\"{iter}.w.{ham}.riz.{2-ovFlag}.0.0.0\"])\n",
    "        l = int(np.sqrt(len(x[0])))\n",
    "        x =  np.reshape(x,(l,l))\n",
    "        return np.array([[ x[i][j] for i in krylovs ] for j in krylovs])\n",
    "H = {}\n",
    "krylovs = range(1,64)\n",
    "for i,n in enumerate(['boson','dicke','external','ising'] + [f'z-{i+1}' for i in range(8)] +[f'd-{i+1}' for i in range(8)]+['a']):\n",
    "    print(i,n)\n",
    "    if n in H:\n",
    "        H[n] += read_h5(1, i+1,krylovs = krylovs)\n",
    "    else:\n",
    "        H[n] =  read_h5(1, i+1,krylovs= krylovs)\n",
    "o = read_h5( 1, 1, True,krylovs = krylovs)\n",
    "ea,ev = linalg.eig(o)\n",
    "##system had dicke at 0.25\n",
    "H['dicke'] *= 4\n",
    "\n",
    "'condition number', np.sort(ea)[-1]/np.sort(ea)[0]"
   ]
  },
  {
   "cell_type": "code",
   "execution_count": 11,
   "id": "a6570b36-172e-4edb-8b3d-db22d9fe7c93",
   "metadata": {},
   "outputs": [],
   "source": [
    "##ENGINEER DEGENERACY OF states\n",
    "h0 =H['boson'] +0.25* H['dicke'] + H['external'] \n",
    "linalg.eig(h0,o);"
   ]
  },
  {
   "cell_type": "code",
   "execution_count": 12,
   "id": "6e8b4cb9-aa06-4bce-bdb4-b463e4c127b7",
   "metadata": {},
   "outputs": [],
   "source": [
    "    #HAMILTONIAN\n",
    "\n",
    "\n",
    "\n",
    "    H0 = Qobj(h0)\n",
    "    ##INTERACTION\n",
    "    # TURN ON ISING TERM,\n",
    "        ##nearest neighbors chat\n",
    "    H1 = Qobj(H['ising'])\n",
    "\n",
    "    ##OBSERVABLES\n",
    "        #observe photon count\n",
    "        #observe average z of spin block\n",
    "    Obs = [Qobj(H['boson'])]#Qobj( np.diag(np.sum([np.eye(10)[i] for i in [8,9]],axis=0)))]#,Qobj(H['y']),Qobj(H['z']), Qobj( np.diag(np.eye(16)[15]))]\n",
    "\n",
    "    #LINDBAD QUANTUM OBSERVATIONS\n",
    "    #--actions on Hamiltonian--\n",
    "    Ops = []\n",
    "\n",
    "\n",
    "    ##start in Ground State\n",
    "    ea,ev = linalg.eig(h0)\n",
    "    ev = np.transpose(ev)\n",
    "    GsA= ev[np.argmin(ea)]\n",
    "    ea[np.argmin(ea)] = 0\n",
    "    GsB= ev[np.argmin(ea)]\n",
    "    Gs = Qobj(GsA  )\n",
    "\n",
    "np.sort(ea);"
   ]
  },
  {
   "cell_type": "code",
   "execution_count": 13,
   "id": "b9f5640b-7f92-4d83-8518-5bafdbdd5a7f",
   "metadata": {},
   "outputs": [],
   "source": [
    "tlist  = np.linspace(0.0, 50, 1001)\n",
    "args = {}\n",
    "psi0   = Gs"
   ]
  },
  {
   "cell_type": "code",
   "execution_count": 14,
   "id": "48684d2c-3859-4931-b242-4b05919b8b07",
   "metadata": {},
   "outputs": [],
   "source": [
    "amp = -1\n",
    "def drive(t,args):\n",
    "        \"\"\"\n",
    "        Just a function to define a driving field\n",
    "        \"\"\"\n",
    "        return amp*((1 if 10 < t and t < 15 else 0 )+(1 if 135 < t and t < 140 else 0 )+(1 if 180 < t and t < 185 else 0 ))#*np.sin(args['w'] * t)#(step(t)+ step(t-10)+step(t-100))*amp#\n",
    "\n"
   ]
  },
  {
   "cell_type": "code",
   "execution_count": 15,
   "id": "74a76666-3468-4148-895d-199c18064439",
   "metadata": {},
   "outputs": [
    {
     "data": {
      "text/plain": [
       "<matplotlib.legend.Legend at 0x79de1712e030>"
      ]
     },
     "execution_count": 15,
     "metadata": {},
     "output_type": "execute_result"
    },
    {
     "data": {
      "image/png": "[encoded data removed]",
      "text/plain": [
       "<Figure size 640x480 with 1 Axes>"
      ]
     },
     "metadata": {},
     "output_type": "display_data"
    }
   ],
   "source": [
    "def simulate(tlist,amp,psi0,args):\n",
    "    MM = len(krylovs)\n",
    "    H = [H0, [H1, lambda t, args:  drive(t,args)]] \n",
    "    \n",
    "    if False:\n",
    "        # find the floquet modes for the time-dependent hamiltonian\n",
    "        f_modes_0,f_energies = floquet_modes(H, T, args)\n",
    "\n",
    "        # decompose the inital state in the floquet modes\n",
    "        f_coeff = floquet_state_decomposition(f_modes_0, f_energies, psi0)\n",
    "\n",
    "        # calculate the wavefunctions using the from the floquet modes\n",
    "        p_ex = np.zeros(len(tlist))\n",
    "        for n, t in enumerate(tlist):\n",
    "            psi_t = floquet_wavefunction_t(f_modes_0, f_energies, f_coeff, t, H, T, args)\n",
    "            p_ex[n] = expect(Obs, psi_t)\n",
    "\n",
    "        plt.plot(tlist, p_ex)        \n",
    "    else:\n",
    "    # For reference: calculate the same thing with mesolve\n",
    "        p_ex = mesolve(H, psi0, tlist, Ops, Obs, args).expect\n",
    "    #p_ex = np.transpose(p_ex)\n",
    "    return p_ex\n",
    "plt.plot( tlist,list(map(lambda x : drive(x,args)/amp, tlist)), label = 'drive')\n",
    "plt.plot(tlist,np.transpose(simulate(tlist,0,Gs,args)[0]), label = 'photon count')\n",
    "#plt.plot(tlist,np.transpose(simulate(tlist,0,Gs,args)[1]), label = 'average spinor')\n",
    "plt.legend()\n",
    "\n",
    "#photon number (not observed or emitted)"
   ]
  },
  {
   "cell_type": "code",
   "execution_count": null,
   "id": "0e8d51ed-7963-4514-a8ea-e624b7494aa2",
   "metadata": {},
   "outputs": [],
   "source": []
  },
  {
   "cell_type": "code",
   "execution_count": null,
   "id": "34087b69-400e-4ad1-8998-43c2109e8446",
   "metadata": {},
   "outputs": [],
   "source": []
  },
  {
   "cell_type": "code",
   "execution_count": null,
   "id": "83f629bd-cb8a-4f2a-aa85-6acf628052de",
   "metadata": {},
   "outputs": [],
   "source": []
  },
  {
   "cell_type": "code",
   "execution_count": null,
   "id": "3b2f62c0-f827-4f9a-a5f6-ed48c121d0ef",
   "metadata": {},
   "outputs": [],
   "source": []
  },
  {
   "cell_type": "code",
   "execution_count": null,
   "id": "c5f39e01-21eb-4863-9bc8-4d892efb7bb5",
   "metadata": {},
   "outputs": [],
   "source": []
  }
 ],
 "metadata": {
  "kernelspec": {
   "display_name": "Python 3 (ipykernel)",
   "language": "python",
   "name": "python3"
  },
  "language_info": {
   "codemirror_mode": {
    "name": "ipython",
    "version": 3
   },
   "file_extension": ".py",
   "mimetype": "text/x-python",
   "name": "python",
   "nbconvert_exporter": "python",
   "pygments_lexer": "ipython3",
   "version": "3.12.3"
  }
 },
 "nbformat": 4,
 "nbformat_minor": 5
}
